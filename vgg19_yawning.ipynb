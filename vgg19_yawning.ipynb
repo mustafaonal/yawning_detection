{
  "nbformat": 4,
  "nbformat_minor": 0,
  "metadata": {
    "colab": {
      "name": "vgg19_yawning.ipynb",
      "provenance": []
    },
    "kernelspec": {
      "name": "python3",
      "display_name": "Python 3"
    },
    "language_info": {
      "name": "python"
    },
    "accelerator": "GPU"
  },
  "cells": [
    {
      "cell_type": "code",
      "metadata": {
        "id": "rTBTK_S7Rov_"
      },
      "source": [
        "from tensorflow.keras.preprocessing.image import ImageDataGenerator\n",
        "from tensorflow.keras.applications import MobileNetV2\n",
        "from tensorflow.keras.layers import AveragePooling2D\n",
        "from tensorflow.keras.layers import Dropout\n",
        "from tensorflow.keras.layers import Flatten\n",
        "from tensorflow.keras.layers import Dense\n",
        "from tensorflow.keras.layers import Input\n",
        "from tensorflow.keras.models import Model\n",
        "from tensorflow.keras.optimizers import Adam\n",
        "from tensorflow.keras.applications.mobilenet_v2 import preprocess_input\n",
        "from tensorflow.keras.preprocessing.image import img_to_array\n",
        "from tensorflow.keras.preprocessing.image import load_img\n",
        "from tensorflow.keras.utils import to_categorical\n",
        "from sklearn.preprocessing import LabelBinarizer\n",
        "from sklearn.model_selection import train_test_split\n",
        "from sklearn.metrics import classification_report\n",
        "from imutils import paths\n",
        "from sklearn.metrics import confusion_matrix\n",
        "from tensorflow.keras.preprocessing.image import ImageDataGenerator\n",
        "import matplotlib.pyplot as plt\n",
        "import numpy as np\n",
        "import argparse\n",
        "import tensorflow as tf\n",
        "import os\n",
        "import shutil\n",
        "import itertools\n",
        "import random\n",
        "import glob\n",
        "import pandas as pd\n",
        "from pathlib import Path\n",
        "from shutil import copyfile\n",
        "import warnings\n",
        "warnings.simplefilter(action='ignore', category=FutureWarning)"
      ],
      "execution_count": 24,
      "outputs": []
    },
    {
      "cell_type": "code",
      "metadata": {
        "id": "9Hlm4Ex5ajDt"
      },
      "source": [
        "from zipfile import *"
      ],
      "execution_count": 3,
      "outputs": []
    },
    {
      "cell_type": "code",
      "metadata": {
        "id": "wyygBPUpRqkZ"
      },
      "source": [
        "with ZipFile('/content/yawning_dataset_labeled.zip', 'r') as zipObj:\n",
        "   # Extract all the contents of zip file in current directory\n",
        "   zipObj.extractall()"
      ],
      "execution_count": 5,
      "outputs": []
    },
    {
      "cell_type": "code",
      "metadata": {
        "id": "1cXwzuZSRqm3"
      },
      "source": [
        "INIT_LR = 1e-4\n",
        "EPOCHS = 10\n",
        "BS = 32"
      ],
      "execution_count": 6,
      "outputs": []
    },
    {
      "cell_type": "code",
      "metadata": {
        "colab": {
          "base_uri": "https://localhost:8080/"
        },
        "id": "xmsCc5TFRqpw",
        "outputId": "9381e705-8899-4399-8119-1576d5b8e7ed"
      },
      "source": [
        "DIRa = '/content/yawning'\n",
        "lenght = len([name for name in os.listdir(DIRa) if os.path.isfile(os.path.join(DIRa, name))])\n",
        "print(lenght)\n",
        "DIRa = '/content/nomal'\n",
        "lenght = len([name for name in os.listdir(DIRa) if os.path.isfile(os.path.join(DIRa, name))])\n",
        "print(lenght)"
      ],
      "execution_count": 7,
      "outputs": [
        {
          "output_type": "stream",
          "text": [
            "15631\n",
            "15670\n"
          ],
          "name": "stdout"
        }
      ]
    },
    {
      "cell_type": "code",
      "metadata": {
        "id": "aFBX-ezERqsR"
      },
      "source": [
        "if os.path.isdir('train/yawning') is False:\n",
        "    os.makedirs('train/normal')\n",
        "    os.makedirs('validation/normal')\n",
        "    os.makedirs('test/normal')\n",
        "    os.makedirs('train/yawning')\n",
        "    os.makedirs('validation/yawning')\n",
        "    os.makedirs('test/yawning')"
      ],
      "execution_count": 8,
      "outputs": []
    },
    {
      "cell_type": "code",
      "metadata": {
        "id": "n-GG5ppHRqu-"
      },
      "source": [
        "for c in random.sample(glob.glob('yawning/*.jpg'), 11700):\n",
        "    shutil.move(c, 'train/yawning')\n",
        "for c in random.sample(glob.glob('yawning/*.jpg'), 2340):\n",
        "    shutil.move(c, 'test/yawning')\n",
        "for c in random.sample(glob.glob('yawning/*.jpg'), 1560):\n",
        "    shutil.move(c, 'validation/yawning')\n",
        "for c in random.sample(glob.glob('nomal/*.jpg'), 11700):\n",
        "    shutil.move(c, 'train/normal')\n",
        "for c in random.sample(glob.glob('nomal/*.jpg'), 2340):\n",
        "    shutil.move(c, 'test/normal')\n",
        "for c in random.sample(glob.glob('nomal/*.jpg'), 1560):\n",
        "    shutil.move(c, 'validation/normal')"
      ],
      "execution_count": 9,
      "outputs": []
    },
    {
      "cell_type": "code",
      "metadata": {
        "colab": {
          "base_uri": "https://localhost:8080/"
        },
        "id": "zK00_JacRqxg",
        "outputId": "28f83c5b-3b31-4a42-fe86-bf45d2ee4af4"
      },
      "source": [
        "DIRa = '/content/train/yawning'\n",
        "lenght = len([name for name in os.listdir(DIRa) if os.path.isfile(os.path.join(DIRa, name))])\n",
        "print(lenght)\n",
        "DIRa = '/content/train/normal'\n",
        "lenght = len([name for name in os.listdir(DIRa) if os.path.isfile(os.path.join(DIRa, name))])\n",
        "print(lenght)\n",
        "DIRa = '/content/test/yawning'\n",
        "lenght = len([name for name in os.listdir(DIRa) if os.path.isfile(os.path.join(DIRa, name))])\n",
        "print(lenght)\n",
        "DIRa = '/content/test/normal'\n",
        "lenght = len([name for name in os.listdir(DIRa) if os.path.isfile(os.path.join(DIRa, name))])\n",
        "print(lenght)\n",
        "DIRa = '/content/validation/yawning'\n",
        "lenght = len([name for name in os.listdir(DIRa) if os.path.isfile(os.path.join(DIRa, name))])\n",
        "print(lenght)\n",
        "DIRa = '/content/validation/normal'\n",
        "lenght = len([name for name in os.listdir(DIRa) if os.path.isfile(os.path.join(DIRa, name))])\n",
        "print(lenght)"
      ],
      "execution_count": 10,
      "outputs": [
        {
          "output_type": "stream",
          "text": [
            "11700\n",
            "11700\n",
            "2340\n",
            "2340\n",
            "1560\n",
            "1560\n"
          ],
          "name": "stdout"
        }
      ]
    },
    {
      "cell_type": "code",
      "metadata": {
        "id": "P_xnhW0ea3SE"
      },
      "source": [
        "train_path = 'train'\n",
        "validation_path = 'validation'\n",
        "test_path = 'test'"
      ],
      "execution_count": 25,
      "outputs": []
    },
    {
      "cell_type": "code",
      "metadata": {
        "colab": {
          "base_uri": "https://localhost:8080/"
        },
        "id": "f_Iqq4r8Rq0N",
        "outputId": "e292bcf9-68fc-4b40-ccc3-0d278319563d"
      },
      "source": [
        "train_batches = ImageDataGenerator(preprocessing_function=tf.keras.applications.vgg19.preprocess_input) \\\n",
        "    .flow_from_directory(directory=train_path, target_size=(224,224), classes=['yawning', 'normal'], batch_size=10)\n",
        "validation_batches = ImageDataGenerator(preprocessing_function=tf.keras.applications.vgg19.preprocess_input) \\\n",
        "    .flow_from_directory(directory=validation_path, target_size=(224,224), classes=['yawning', 'normal'], batch_size=10)\n",
        "test_batches = ImageDataGenerator(preprocessing_function=tf.keras.applications.vgg19.preprocess_input) \\\n",
        "    .flow_from_directory(directory=test_path, target_size=(224,224), classes=['yawning', 'normal'], batch_size=10, shuffle=False)"
      ],
      "execution_count": 26,
      "outputs": [
        {
          "output_type": "stream",
          "text": [
            "Found 23400 images belonging to 2 classes.\n",
            "Found 3120 images belonging to 2 classes.\n",
            "Found 4680 images belonging to 2 classes.\n"
          ],
          "name": "stdout"
        }
      ]
    },
    {
      "cell_type": "code",
      "metadata": {
        "id": "NsxNpZcXRq2_"
      },
      "source": [
        "import numpy as np\n",
        "import tensorflow as tf\n",
        "from tensorflow import keras\n",
        "from tensorflow.keras.models import Sequential\n",
        "from tensorflow.keras.layers import Activation, Dense, Flatten, BatchNormalization, Conv2D, MaxPool2D\n",
        "from tensorflow.keras.optimizers import Adam\n",
        "from tensorflow.keras.metrics import categorical_crossentropy\n",
        "from tensorflow.keras.preprocessing.image import ImageDataGenerator\n",
        "from sklearn.metrics import confusion_matrix\n",
        "import itertools\n",
        "import os\n",
        "import shutil\n",
        "import random\n",
        "import glob\n",
        "import matplotlib.pyplot as plt\n",
        "import pandas as pd\n",
        "from pathlib import Path\n",
        "from shutil import copyfile\n",
        "import warnings\n",
        "warnings.simplefilter(action='ignore', category=FutureWarning)"
      ],
      "execution_count": 27,
      "outputs": []
    },
    {
      "cell_type": "code",
      "metadata": {
        "id": "VTmaAn-4Rq5l"
      },
      "source": [
        "vgg19_model = tf.keras.applications.vgg19.VGG19()"
      ],
      "execution_count": 28,
      "outputs": []
    },
    {
      "cell_type": "code",
      "metadata": {
        "id": "sX709sEnRq8M"
      },
      "source": [
        "model_4 = Sequential()\n",
        "for layer in vgg19_model.layers[:-9]:\n",
        "  model_4.add(layer)"
      ],
      "execution_count": 29,
      "outputs": []
    },
    {
      "cell_type": "code",
      "metadata": {
        "id": "ePWj_uvdRq_H"
      },
      "source": [
        "model_4.add(Flatten())\n",
        "model_4.add(Dense(units=2, activation='softmax'))"
      ],
      "execution_count": 30,
      "outputs": []
    },
    {
      "cell_type": "code",
      "metadata": {
        "colab": {
          "base_uri": "https://localhost:8080/"
        },
        "id": "X_qbhapPSJac",
        "outputId": "69de6280-b000-4a59-fb65-fe5be78ce067"
      },
      "source": [
        "model_4.summary()"
      ],
      "execution_count": 31,
      "outputs": [
        {
          "output_type": "stream",
          "text": [
            "Model: \"sequential_2\"\n",
            "_________________________________________________________________\n",
            "Layer (type)                 Output Shape              Param #   \n",
            "=================================================================\n",
            "block1_conv1 (Conv2D)        (None, 224, 224, 64)      1792      \n",
            "_________________________________________________________________\n",
            "block1_conv2 (Conv2D)        (None, 224, 224, 64)      36928     \n",
            "_________________________________________________________________\n",
            "block1_pool (MaxPooling2D)   (None, 112, 112, 64)      0         \n",
            "_________________________________________________________________\n",
            "block2_conv1 (Conv2D)        (None, 112, 112, 128)     73856     \n",
            "_________________________________________________________________\n",
            "block2_conv2 (Conv2D)        (None, 112, 112, 128)     147584    \n",
            "_________________________________________________________________\n",
            "block2_pool (MaxPooling2D)   (None, 56, 56, 128)       0         \n",
            "_________________________________________________________________\n",
            "block3_conv1 (Conv2D)        (None, 56, 56, 256)       295168    \n",
            "_________________________________________________________________\n",
            "block3_conv2 (Conv2D)        (None, 56, 56, 256)       590080    \n",
            "_________________________________________________________________\n",
            "block3_conv3 (Conv2D)        (None, 56, 56, 256)       590080    \n",
            "_________________________________________________________________\n",
            "block3_conv4 (Conv2D)        (None, 56, 56, 256)       590080    \n",
            "_________________________________________________________________\n",
            "block3_pool (MaxPooling2D)   (None, 28, 28, 256)       0         \n",
            "_________________________________________________________________\n",
            "block4_conv1 (Conv2D)        (None, 28, 28, 512)       1180160   \n",
            "_________________________________________________________________\n",
            "block4_conv2 (Conv2D)        (None, 28, 28, 512)       2359808   \n",
            "_________________________________________________________________\n",
            "block4_conv3 (Conv2D)        (None, 28, 28, 512)       2359808   \n",
            "_________________________________________________________________\n",
            "block4_conv4 (Conv2D)        (None, 28, 28, 512)       2359808   \n",
            "_________________________________________________________________\n",
            "block4_pool (MaxPooling2D)   (None, 14, 14, 512)       0         \n",
            "_________________________________________________________________\n",
            "flatten_1 (Flatten)          (None, 100352)            0         \n",
            "_________________________________________________________________\n",
            "dense_1 (Dense)              (None, 2)                 200706    \n",
            "=================================================================\n",
            "Total params: 10,785,858\n",
            "Trainable params: 10,785,858\n",
            "Non-trainable params: 0\n",
            "_________________________________________________________________\n"
          ],
          "name": "stdout"
        }
      ]
    },
    {
      "cell_type": "code",
      "metadata": {
        "id": "8JhWzHZBSJYN"
      },
      "source": [
        "model_4.compile(optimizer=Adam(learning_rate=0.0001), loss='categorical_crossentropy', metrics=['accuracy'])"
      ],
      "execution_count": 32,
      "outputs": []
    },
    {
      "cell_type": "code",
      "metadata": {
        "colab": {
          "base_uri": "https://localhost:8080/"
        },
        "id": "QFMw2BcCSJSg",
        "outputId": "701b2b1a-dd7f-4e98-abcf-ec3968af372d"
      },
      "source": [
        "h = model_4.fit(x=train_batches, validation_data=validation_batches, epochs=10, verbose=2)"
      ],
      "execution_count": 33,
      "outputs": [
        {
          "output_type": "stream",
          "text": [
            "Epoch 1/10\n",
            "2340/2340 - 424s - loss: 0.6496 - accuracy: 0.9286 - val_loss: 0.1041 - val_accuracy: 0.9631\n",
            "Epoch 2/10\n",
            "2340/2340 - 422s - loss: 0.0929 - accuracy: 0.9660 - val_loss: 0.0565 - val_accuracy: 0.9804\n",
            "Epoch 3/10\n",
            "2340/2340 - 419s - loss: 0.0925 - accuracy: 0.9662 - val_loss: 0.1127 - val_accuracy: 0.9571\n",
            "Epoch 4/10\n",
            "2340/2340 - 418s - loss: 0.0804 - accuracy: 0.9716 - val_loss: 0.0653 - val_accuracy: 0.9776\n",
            "Epoch 5/10\n",
            "2340/2340 - 417s - loss: 0.0748 - accuracy: 0.9744 - val_loss: 0.0893 - val_accuracy: 0.9660\n",
            "Epoch 6/10\n",
            "2340/2340 - 415s - loss: 0.0565 - accuracy: 0.9797 - val_loss: 0.0671 - val_accuracy: 0.9750\n",
            "Epoch 7/10\n",
            "2340/2340 - 414s - loss: 0.0564 - accuracy: 0.9797 - val_loss: 0.0452 - val_accuracy: 0.9827\n",
            "Epoch 8/10\n",
            "2340/2340 - 414s - loss: 0.0493 - accuracy: 0.9824 - val_loss: 0.0511 - val_accuracy: 0.9814\n",
            "Epoch 9/10\n",
            "2340/2340 - 413s - loss: 0.0454 - accuracy: 0.9846 - val_loss: 0.0621 - val_accuracy: 0.9753\n",
            "Epoch 10/10\n",
            "2340/2340 - 412s - loss: 0.0393 - accuracy: 0.9858 - val_loss: 0.0480 - val_accuracy: 0.9811\n"
          ],
          "name": "stdout"
        }
      ]
    },
    {
      "cell_type": "code",
      "metadata": {
        "id": "kdcLe-BiSJP8"
      },
      "source": [
        "model_4.save('vgg19_yawning.h5')"
      ],
      "execution_count": 23,
      "outputs": []
    },
    {
      "cell_type": "code",
      "metadata": {
        "id": "Y482ZHbESJNg"
      },
      "source": [
        "predictions = model_4.predict(x=test_batches, verbose=0)"
      ],
      "execution_count": 35,
      "outputs": []
    },
    {
      "cell_type": "code",
      "metadata": {
        "id": "R5q7JKrTSJKt"
      },
      "source": [
        "cm = confusion_matrix(y_true=test_batches.classes, y_pred=np.argmax(predictions, axis=-1))"
      ],
      "execution_count": 36,
      "outputs": []
    },
    {
      "cell_type": "code",
      "metadata": {
        "id": "fMmnrT1fSmwh"
      },
      "source": [
        "def plot_confusion_matrix(cm, classes,\n",
        "                         normalize=False,\n",
        "                         title='Confusion Matrix',\n",
        "                         cmap=plt.cm.Blues):\n",
        "    \n",
        "    plt.imshow(cm, interpolation='nearest', cmap=cmap)\n",
        "    plt.title(title)\n",
        "    plt.colorbar()\n",
        "    tick_marks = np.arange(len(classes))\n",
        "    plt.xticks(tick_marks, classes, rotation=45)\n",
        "    plt.yticks(tick_marks, classes)\n",
        "\n",
        "    if normalize:\n",
        "        cm = cm.astype('float') / cm.sum(axis=1)[:, np.newaxis]\n",
        "        print('Normalized Confusion Matrix')\n",
        "    else:\n",
        "        print('Confusion Matrix without normalization')\n",
        "    \n",
        "    print(cm)\n",
        "\n",
        "    thresh = cm.max() / 2\n",
        "    for i,j in itertools.product(range(cm.shape[0]), range(cm.shape[1])):\n",
        "        plt.text(i, j, cm[i, j],\n",
        "                horizontalalignment=\"center\",\n",
        "                color='white' if cm[i, j] > thresh else 'black')\n",
        "\n",
        "    plt.tight_layout()\n",
        "    plt.ylabel('True label')\n",
        "    plt.xlabel('Predicted label')"
      ],
      "execution_count": 37,
      "outputs": []
    },
    {
      "cell_type": "code",
      "metadata": {
        "colab": {
          "base_uri": "https://localhost:8080/",
          "height": 362
        },
        "id": "4ct1G0LKSheY",
        "outputId": "4aa00c05-130f-4658-b4ea-f351e08f237b"
      },
      "source": [
        "cm_plot_labels = ['normal', 'yawning']\n",
        "plot_confusion_matrix(cm=cm, classes=cm_plot_labels, title='Confusion Matrix')"
      ],
      "execution_count": 39,
      "outputs": [
        {
          "output_type": "stream",
          "text": [
            "Confusion Matrix without normalization\n",
            "[[2305   35]\n",
            " [  54 2286]]\n"
          ],
          "name": "stdout"
        },
        {
          "output_type": "display_data",
          "data": {
            "image/png": "[encoded data removed]",
            "text/plain": [
              "<Figure size 432x288 with 2 Axes>"
            ]
          },
          "metadata": {
            "tags": [],
            "needs_background": "light"
          }
        }
      ]
    },
    {
      "cell_type": "code",
      "metadata": {
        "colab": {
          "base_uri": "https://localhost:8080/"
        },
        "id": "D_6c3wYXShbs",
        "outputId": "6a8cbfaf-aa22-45c1-f6a6-1d458ab2bfba"
      },
      "source": [
        "(cm[0,0] + cm[1,1])/(cm[0,0] + cm[0,1] + cm[1,0] + cm[1,1]) * 100"
      ],
      "execution_count": 40,
      "outputs": [
        {
          "output_type": "execute_result",
          "data": {
            "text/plain": [
              "98.09829059829059"
            ]
          },
          "metadata": {
            "tags": []
          },
          "execution_count": 40
        }
      ]
    },
    {
      "cell_type": "code",
      "metadata": {
        "colab": {
          "base_uri": "https://localhost:8080/",
          "height": 442
        },
        "id": "5dCBdtWWShZl",
        "outputId": "ec2e2a2e-2193-4689-d3ed-19550b06b045"
      },
      "source": [
        "pd.DataFrame(h.history).plot(figsize=(10,7), xlabel=\"epochs\");"
      ],
      "execution_count": 41,
      "outputs": [
        {
          "output_type": "display_data",
          "data": {
            "image/png": "[encoded data removed]",
            "text/plain": [
              "<Figure size 720x504 with 1 Axes>"
            ]
          },
          "metadata": {
            "tags": [],
            "needs_background": "light"
          }
        }
      ]
    },
    {
      "cell_type": "code",
      "metadata": {
        "colab": {
          "base_uri": "https://localhost:8080/",
          "height": 462
        },
        "id": "xrHwkmp2ShXI",
        "outputId": "b7e6b64e-14ba-439a-e168-27108255f870"
      },
      "source": [
        "# Plot the learning rate versus the loss\n",
        "lrs = 1e-4 * (10 ** (np.arange(10)/20))\n",
        "plt.figure(figsize=(10, 7))\n",
        "plt.semilogx(lrs, h.history[\"loss\"]) # we want the x-axis (learning rate) to be log scale\n",
        "plt.xlabel(\"Learning Rate\")\n",
        "plt.ylabel(\"Loss\")\n",
        "plt.title(\"Learning rate vs. loss\");"
      ],
      "execution_count": 42,
      "outputs": [
        {
          "output_type": "display_data",
          "data": {
            "image/png": "[encoded data removed]",
            "text/plain": [
              "<Figure size 720x504 with 1 Axes>"
            ]
          },
          "metadata": {
            "tags": [],
            "needs_background": "light"
          }
        }
      ]
    },
    {
      "cell_type": "code",
      "metadata": {
        "colab": {
          "base_uri": "https://localhost:8080/"
        },
        "id": "qeiHj-IhShUB",
        "outputId": "21fde57b-1b1a-42e0-96e0-00e15ccf4f96"
      },
      "source": [
        "from sklearn.metrics import classification_report, f1_score, recall_score, precision_score\n",
        "y_true = test_batches.classes\n",
        "print(classification_report(y_true=y_true, y_pred=np.argmax(predictions, axis=-1), target_names=[\"yawning\",\"normal\"]))"
      ],
      "execution_count": 43,
      "outputs": [
        {
          "output_type": "stream",
          "text": [
            "              precision    recall  f1-score   support\n",
            "\n",
            "     yawning       0.98      0.99      0.98      2340\n",
            "      normal       0.98      0.98      0.98      2340\n",
            "\n",
            "    accuracy                           0.98      4680\n",
            "   macro avg       0.98      0.98      0.98      4680\n",
            "weighted avg       0.98      0.98      0.98      4680\n",
            "\n"
          ],
          "name": "stdout"
        }
      ]
    },
    {
      "cell_type": "code",
      "metadata": {
        "id": "JmzOqklMShSD"
      },
      "source": [
        ""
      ],
      "execution_count": null,
      "outputs": []
    }
  ]
}